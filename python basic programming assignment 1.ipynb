{
 "cells": [
  {
   "cell_type": "markdown",
   "id": "a412c4ae",
   "metadata": {},
   "source": [
    "Q.1 Write a Python program to print \"Hello Python\"?"
   ]
  },
  {
   "cell_type": "code",
   "execution_count": 3,
   "id": "03c13e06",
   "metadata": {},
   "outputs": [
    {
     "name": "stdout",
     "output_type": "stream",
     "text": [
      "enter input:Hello Python\n",
      "Hello Python\n"
     ]
    }
   ],
   "source": [
    "a=input(\"enter input:\")\n",
    "print(a)"
   ]
  },
  {
   "cell_type": "markdown",
   "id": "5b8e2358",
   "metadata": {},
   "source": [
    "Q.2 Write a Python program to do arithmetical operations addition and division.?"
   ]
  },
  {
   "cell_type": "code",
   "execution_count": 7,
   "id": "61245be2",
   "metadata": {},
   "outputs": [
    {
     "name": "stdout",
     "output_type": "stream",
     "text": [
      "Enter Num1:100\n",
      "Enter Nmum2:200\n",
      "Enter Operation:adition\n",
      "adition is 300\n"
     ]
    }
   ],
   "source": [
    "a=int(input(\"Enter Num1:\"))\n",
    "b=int(input(\"Enter Nmum2:\"))\n",
    "f=input(\"Enter Operation:\")\n",
    "if f == \"adition\":\n",
    "    c=a+b\n",
    "    print('adition is',c)\n",
    "elif f == \"division\":\n",
    "    d=a/b\n",
    "    print(\"division is\",d)\n",
    "else:\n",
    "    print(\"Enter correct operation\")"
   ]
  },
  {
   "cell_type": "code",
   "execution_count": 8,
   "id": "a3866e65",
   "metadata": {},
   "outputs": [
    {
     "name": "stdout",
     "output_type": "stream",
     "text": [
      "Enter Num1:45\n",
      "Enter Nmum2:35\n",
      "Enter Operation:division\n",
      "division is 1.2857142857142858\n"
     ]
    }
   ],
   "source": [
    "a=int(input(\"Enter Num1:\"))\n",
    "b=int(input(\"Enter Nmum2:\"))\n",
    "f=input(\"Enter Operation:\")\n",
    "if f == \"adition\":\n",
    "    c=a+b\n",
    "    print('adition is',c)\n",
    "elif f == \"division\":\n",
    "    d=a/b\n",
    "    print(\"division is\",d)\n",
    "else:\n",
    "    print(\"Enter correct operation\")"
   ]
  },
  {
   "cell_type": "code",
   "execution_count": 9,
   "id": "31f5d2ce",
   "metadata": {},
   "outputs": [
    {
     "name": "stdout",
     "output_type": "stream",
     "text": [
      "Enter Num1:10\n",
      "Enter Nmum2:22\n",
      "Enter Operation:sd\n",
      "Enter correct operation\n"
     ]
    }
   ],
   "source": [
    "a=int(input(\"Enter Num1:\"))\n",
    "b=int(input(\"Enter Nmum2:\"))\n",
    "f=input(\"Enter Operation:\")\n",
    "if f == \"adition\":\n",
    "    c=a+b\n",
    "    print('adition is',c)\n",
    "elif f == \"division\":\n",
    "    d=a/b\n",
    "    print(\"division is\",d)\n",
    "else:\n",
    "    print(\"Enter correct operation\")"
   ]
  },
  {
   "cell_type": "markdown",
   "id": "a852fb83",
   "metadata": {},
   "source": [
    "Q.3 Write a Python program to find the area of a triangle?"
   ]
  },
  {
   "cell_type": "code",
   "execution_count": 10,
   "id": "fbc720ff",
   "metadata": {},
   "outputs": [
    {
     "name": "stdout",
     "output_type": "stream",
     "text": [
      "15.0\n"
     ]
    }
   ],
   "source": [
    "def area_of_triangle(base,height):\n",
    "    area = (base*height)/2\n",
    "    print(area)\n",
    "    \n",
    "a = area_of_triangle(5,6)"
   ]
  },
  {
   "cell_type": "markdown",
   "id": "dc9169cf",
   "metadata": {},
   "source": [
    "Q.4 Write a Python program to swap two variables?"
   ]
  },
  {
   "cell_type": "code",
   "execution_count": 12,
   "id": "4aff1bd3",
   "metadata": {},
   "outputs": [
    {
     "name": "stdout",
     "output_type": "stream",
     "text": [
      "Enter num_1: 11\n",
      "11\n",
      "Enter num_2: 22\n",
      "22\n",
      "22 and 11 are new valuse of x and y respectively\n"
     ]
    }
   ],
   "source": [
    "x = input(\"Enter num_1: \")\n",
    "print(x)\n",
    "y = input(\"Enter num_2: \")\n",
    "print(y)\n",
    "\n",
    "temp = x\n",
    "x = y\n",
    "y = temp\n",
    "\n",
    "print(\"{} and {} are new valuse of x and y respectively\".format(x,y))"
   ]
  },
  {
   "cell_type": "markdown",
   "id": "6aa5e10a",
   "metadata": {},
   "source": [
    "Q.5 Write a Python program to generate a random number?"
   ]
  },
  {
   "cell_type": "code",
   "execution_count": 13,
   "id": "e7e7f3d2",
   "metadata": {},
   "outputs": [
    {
     "name": "stdout",
     "output_type": "stream",
     "text": [
      "0.7510857538123645\n"
     ]
    }
   ],
   "source": [
    "import random\n",
    "rndno = random.random()\n",
    "print(rndno)"
   ]
  },
  {
   "cell_type": "code",
   "execution_count": null,
   "id": "889d2e1a",
   "metadata": {},
   "outputs": [],
   "source": []
  }
 ],
 "metadata": {
  "kernelspec": {
   "display_name": "Python 3 (ipykernel)",
   "language": "python",
   "name": "python3"
  },
  "language_info": {
   "codemirror_mode": {
    "name": "ipython",
    "version": 3
   },
   "file_extension": ".py",
   "mimetype": "text/x-python",
   "name": "python",
   "nbconvert_exporter": "python",
   "pygments_lexer": "ipython3",
   "version": "3.9.7"
  }
 },
 "nbformat": 4,
 "nbformat_minor": 5
}
